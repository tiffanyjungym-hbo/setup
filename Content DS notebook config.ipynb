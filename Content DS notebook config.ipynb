{
 "cells": [
  {
   "cell_type": "markdown",
   "id": "22aaea77",
   "metadata": {},
   "source": [
    "# Sagemaker notebook Git, Snowflake and S3 set up"
   ]
  },
  {
   "cell_type": "markdown",
   "id": "d87cdc75",
   "metadata": {},
   "source": [
    "## Git"
   ]
  },
  {
   "cell_type": "raw",
   "id": "db0ade04",
   "metadata": {},
   "source": [
    "1. Generate a SSH public key on sagemaker & add it on github to allow access. \n",
    "    a. If there's no ~/.ssh/id_rsa, run `ssh-keygen -o`.  Navigate to ~./ssh and copy the key `cat id_rsa.pub`\n",
    "    b. On github, go to settings-> SSH/GPG keys. Add new SSH key and paste in the key from a.\n",
    "2. On your notebook instance, open terminal and clone your git repo (git clone ...). "
   ]
  },
  {
   "cell_type": "markdown",
   "id": "d8699c46",
   "metadata": {},
   "source": [
    "## S3"
   ]
  },
  {
   "cell_type": "raw",
   "id": "7b6755f5",
   "metadata": {},
   "source": [
    "Search S3 on AWS and make a folder under /datascience-hbo-users/users. You can access this folder on Sagemaker as 's3://datascience-hbo-users/' directory. You can also use aws s3 commands for general file management ('aws s3 rm', 'aws s3 cp', etc. \n",
    "\n",
    "e.g. \n",
    "Read file :  pd.read_csv('s3://datascience-hbo-users/users/tjung/test_s.csv')\n",
    "Delete file:  !aws s3 rm s3://datascience-hbo-users/users/tjung/test.csv"
   ]
  },
  {
   "cell_type": "markdown",
   "id": "d659c3eb",
   "metadata": {},
   "source": [
    "## Snowflake"
   ]
  },
  {
   "cell_type": "code",
   "execution_count": null,
   "id": "d32314aa",
   "metadata": {},
   "outputs": [],
   "source": [
    "## Run the following pip install commands and restart the notebook kernel \n",
    "\n",
    "# !pip install snowflake --user\n",
    "# !pip install snowflake-connector-python --user"
   ]
  },
  {
   "cell_type": "code",
   "execution_count": null,
   "id": "49153345",
   "metadata": {},
   "outputs": [],
   "source": [
    "###### import pandas as pd\n",
    "import json\n",
    "import snowflake.connector\n",
    "from abc import ABCMeta, abstractmethod\n",
    "import boto3\n",
    "\n",
    "## Limit Size of Returned Records\n",
    "MAX_QUERY_RETURN_SIZE = 1000000\n",
    "\n",
    "class Credentials(metaclass=ABCMeta):\n",
    "    pass\n",
    "    \n",
    "    \n",
    "class SSMPSCredentials(Credentials):\n",
    "    def __init__(self, secretid: str):\n",
    "        self._secretid = secretid\n",
    "        self._secrets = {}\n",
    "        \n",
    "    def get_keys(self):\n",
    "        \"\"\"\n",
    "        credential fetching \n",
    "        \"\"\"\n",
    "        _aws_sm_args = {'service_name': 'secretsmanager', 'region_name': 'us-east-1'}\n",
    "        secrets_client = boto3.client(**_aws_sm_args)\n",
    "        get_secret_value_response = secrets_client.get_secret_value(SecretId=self._secretid)\n",
    "        return get_secret_value_response\n",
    "    \n",
    "    \n",
    "class BaseConnector(metaclass=ABCMeta):\n",
    "    @abstractmethod\n",
    "    def connect(self):\n",
    "        raise NotImplementedError\n",
    "        \n",
    "\n",
    "class SnowflakeConnector(BaseConnector):\n",
    "    def __init__(self, credentials: Credentials):\n",
    "        keys = credentials.get_keys()\n",
    "        self._secrets = json.loads(keys.get('SecretString', \"{}\"))\n",
    "\n",
    "    def connect(self, dbname: str, schema: str = 'DEFAULT'):\n",
    "        ctx = snowflake.connector.connect(\n",
    "            user=self._secrets['login_name'],\n",
    "            password=self._secrets['login_password'],\n",
    "            account=self._secrets['account'],\n",
    "            warehouse=self._secrets['warehouse'],\n",
    "            database=dbname,\n",
    "            schema=schema\n",
    "        )\n",
    "\n",
    "        return ctx\n",
    "    "
   ]
  },
  {
   "cell_type": "code",
   "execution_count": 4,
   "id": "75999f7d",
   "metadata": {},
   "outputs": [],
   "source": [
    "## Credentials\n",
    "SF_CREDS = 'datascience-max-dev-sagemaker-notebooks'\n",
    "\n",
    "## Snowflake connection \n",
    "conn=SnowflakeConnector(SSMPSCredentials(SF_CREDS))\n",
    "ctx=conn.connect(\"MAX_PROD\",\"DATASCIENCE_STAGE\")\n",
    "cur = ctx.cursor()\n"
   ]
  },
  {
   "cell_type": "code",
   "execution_count": 5,
   "id": "b865b808",
   "metadata": {},
   "outputs": [
    {
     "data": {
      "text/html": [
       "<div>\n",
       "<style scoped>\n",
       "    .dataframe tbody tr th:only-of-type {\n",
       "        vertical-align: middle;\n",
       "    }\n",
       "\n",
       "    .dataframe tbody tr th {\n",
       "        vertical-align: top;\n",
       "    }\n",
       "\n",
       "    .dataframe thead th {\n",
       "        text-align: right;\n",
       "    }\n",
       "</style>\n",
       "<table border=\"1\" class=\"dataframe\">\n",
       "  <thead>\n",
       "    <tr style=\"text-align: right;\">\n",
       "      <th></th>\n",
       "      <th>RELEASE_MONTH</th>\n",
       "      <th>CATEGORY</th>\n",
       "      <th>UNCLEANED_TITLE</th>\n",
       "      <th>TITLE</th>\n",
       "      <th>SEASON</th>\n",
       "      <th>TIER</th>\n",
       "      <th>NUM_EPISODES_RELEASED</th>\n",
       "      <th>NUM_HOURS_RELEASED</th>\n",
       "      <th>NUM_PREMIERING_TITLES</th>\n",
       "    </tr>\n",
       "  </thead>\n",
       "  <tbody>\n",
       "    <tr>\n",
       "      <th>0</th>\n",
       "      <td>2020-08-01</td>\n",
       "      <td>DOCUMENTARY FEATURES</td>\n",
       "      <td>Class Action Park</td>\n",
       "      <td>Class Action Park</td>\n",
       "      <td>0</td>\n",
       "      <td>3</td>\n",
       "      <td>1</td>\n",
       "      <td>2</td>\n",
       "      <td>1</td>\n",
       "    </tr>\n",
       "    <tr>\n",
       "      <th>1</th>\n",
       "      <td>2020-08-01</td>\n",
       "      <td>DOCUMENTARY FEATURES</td>\n",
       "      <td>On the Trail: Inside the 2020 Primaries</td>\n",
       "      <td>On the Trail: Inside the 2020 Primaries</td>\n",
       "      <td>0</td>\n",
       "      <td>3</td>\n",
       "      <td>1</td>\n",
       "      <td>2</td>\n",
       "      <td>1</td>\n",
       "    </tr>\n",
       "  </tbody>\n",
       "</table>\n",
       "</div>"
      ],
      "text/plain": [
       "  RELEASE_MONTH              CATEGORY  \\\n",
       "0    2020-08-01  DOCUMENTARY FEATURES   \n",
       "1    2020-08-01  DOCUMENTARY FEATURES   \n",
       "\n",
       "                           UNCLEANED_TITLE  \\\n",
       "0                        Class Action Park   \n",
       "1  On the Trail: Inside the 2020 Primaries   \n",
       "\n",
       "                                     TITLE SEASON  TIER  \\\n",
       "0                        Class Action Park      0     3   \n",
       "1  On the Trail: Inside the 2020 Primaries      0     3   \n",
       "\n",
       "   NUM_EPISODES_RELEASED  NUM_HOURS_RELEASED  NUM_PREMIERING_TITLES  \n",
       "0                      1                   2                      1  \n",
       "1                      1                   2                      1  "
      ]
     },
     "metadata": {},
     "output_type": "display_data"
    }
   ],
   "source": [
    "# Execute a statement that will generate a result set.\n",
    "querystr='''\n",
    "    select *\n",
    "    from max_prod.content_intelligence.future_programming_schedule\n",
    "    limit 2\n",
    "'''\n",
    "cur.execute(querystr)\n",
    "# Fetch the result set from the cursor and deliver it as the Pandas DataFrame.\n",
    "\n",
    "colstring = ','.join([col[0] for col in cur.description])\n",
    "df = pd.DataFrame(cur.fetchall(), columns =colstring.split(\",\"))\n",
    "display(df)\n",
    "\n",
    "df.to_csv('test.csv')"
   ]
  }
 ],
 "metadata": {
  "kernelspec": {
   "display_name": "conda_python3",
   "language": "python",
   "name": "conda_python3"
  },
  "language_info": {
   "codemirror_mode": {
    "name": "ipython",
    "version": 3
   },
   "file_extension": ".py",
   "mimetype": "text/x-python",
   "name": "python",
   "nbconvert_exporter": "python",
   "pygments_lexer": "ipython3",
   "version": "3.6.13"
  }
 },
 "nbformat": 4,
 "nbformat_minor": 5
}
