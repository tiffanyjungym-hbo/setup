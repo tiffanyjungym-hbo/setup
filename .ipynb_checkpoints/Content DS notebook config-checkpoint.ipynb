{
 "cells": [
  {
   "cell_type": "markdown",
   "id": "4812a3e2",
   "metadata": {},
   "source": [
    "# Sagemaker notebook Git, Snowflake and S3 set up"
   ]
  },
  {
   "cell_type": "markdown",
   "id": "5626c989",
   "metadata": {},
   "source": [
    "## Git"
   ]
  },
  {
   "cell_type": "markdown",
   "id": "de4b6524",
   "metadata": {},
   "source": [
    "1. Stop your Sagemaker notebook instance if it is on.\n",
    "2. Edit the instance and add git repositories under 'Git Repositories'. You can choose to add public repositories for your specific instance. \n",
    "3. Start the notebook instance. Your repositories will be cloned under the notebook directories. Local changes will be saved when you restart your notebook. \n",
    "4. You can use the git extension or terminal commands to work with git. To use the extension, you will need to generate a personal access token \n",
    "https://docs.github.com/en/authentication/keeping-your-account-and-data-secure/creating-a-personal-access-token\n"
   ]
  },
  {
   "cell_type": "markdown",
   "id": "79f90c89",
   "metadata": {},
   "source": [
    "## S3"
   ]
  },
  {
   "cell_type": "markdown",
   "id": "d7b28d99",
   "metadata": {},
   "source": [
    "1. Search S3 on AWS and make a folder under `/datascience-hbo-users/users`. \n",
    "2. Access this folder on Sagemaker as `s3://datascience-hbo-users/` directory. You can also use aws s3 commands for general file management ('aws s3 rm', 'aws s3 cp', etc).\n",
    "\n",
    "```\n",
    "Read file :  pd.read_csv('s3://datascience-hbo-users/users/tjung/test_s.csv')\n",
    "Delete file:  !aws s3 rm 's3://datascience-hbo-users/users/tjung/test.csv'```"
   ]
  },
  {
   "cell_type": "markdown",
   "id": "259b825f",
   "metadata": {},
   "source": [
    "## Plotly (optional)"
   ]
  },
  {
   "cell_type": "markdown",
   "id": "920d7a62",
   "metadata": {},
   "source": [
    "1. Set up lifecycle configuration on SageMaker and start your notebook instance with the configuration.\n",
    "2. Enter the following under Script- start notebook: \n",
    "    ```\n",
    "    set -e\n",
    "    #!/bin/bash\n",
    "    sudo -u ec2-user -i <<'EOF'\n",
    "\n",
    "    mkdir ~/.jupyter/lab/user-settings\n",
    "    mkdir ~/.jupyter/lab/user-settings/@jupyterlab\n",
    "    mkdir ~/.jupyter/lab/user-settings/@jupyterlab/extensionmanager-extension\n",
    "    touch ~/.jupyter/lab/user-settings/@jupyterlab/extensionmanager-extension/plugin.jupyterlab-settings\n",
    "    echo \"{\"enabled\": true}\" >> ~/.jupyter/lab/user-settings/@jupyterlab/extensionmanager-extension/plugin.jupyterlab-settings \n",
    "\n",
    "    rm -rf /home/ec2-user/anaconda3/envs/JupyterSystemEnv/etc/jupyter/jupyter_config.json\n",
    "    touch /home/ec2-user/anaconda3/envs/JupyterSystemEnv/etc/jupyter/jupyter_config.json\n",
    "    echo \"{\"JupyterApp\":{}}\" >> /home/ec2-user/anaconda3/envs/JupyterSystemEnv/etc/jupyter/jupyter_config.json\n",
    "    source /home/ec2-user/anaconda3/bin/activate JupyterSystemEnv\n",
    "    conda install \"ipywidgets=7.5\" --yes\n",
    "    export NODE_OPTIONS=--max-old-space-size=4096\n",
    "    jupyter labextension install @jupyter-widgets/jupyterlab-manager@1.1 --no-build\n",
    "    jupyter labextension install jupyterlab-plotly@4.6.0 --no-build\n",
    "    jupyter labextension install plotlywidget@4.6.0 --no-build\n",
    "    jupyter lab build\n",
    "    unset NODE_OPTIONS\n",
    "    ```\n",
    "    ```\n",
    "    # This will affect only the Jupyter kernel called \"conda_python3\".\n",
    "    source activate python3\n",
    "    pip install xgboost\n",
    "    pip install lightgbm\n",
    "    pip install fuzzywuzzy\n",
    "    pip install snowflake\n",
    "    pip install snowflake-connector-python\n",
    "    pip install category_encoders\n",
    "\n",
    "    source deactivate\n",
    "\n",
    "    EOF\n",
    "    ```\n",
    "\n",
    "\n",
    "\n",
    "Alternatively, if you don't want to set up a lifecycle config:  \n",
    "\n",
    "1. Enable Extension Manager under jupyterlab's Settings tab.\n",
    "2. Run the following in terminal\n",
    "\n",
    "    ```\n",
    "    rm -rf /home/ec2-user/anaconda3/envs/JupyterSystemEnv/etc/jupyter/jupyter_config.json\n",
    "    touch /home/ec2-user/anaconda3/envs/JupyterSystemEnv/etc/jupyter/jupyter_config.json\n",
    "    echo \"{\"JupyterApp\":{}}\" >> /home/ec2-user/anaconda3/envs/JupyterSystemEnv/etc/jupyter/jupyter_config.json\n",
    "    #!/bin/bash\n",
    "    conda install \"ipywidgets=7.5\" --yes\n",
    "    export NODE_OPTIONS=--max-old-space-size=4096\n",
    "    jupyter labextension install @jupyter-widgets/jupyterlab-manager@1.1 --no-build\n",
    "    jupyter labextension install jupyterlab-plotly@4.6.0 --no-build\n",
    "    jupyter labextension install plotlywidget@4.6.0 --no-build\n",
    "    jupyter lab build\n",
    "    unset NODE_OPTIONS\n"
   ]
  },
  {
   "cell_type": "markdown",
   "id": "08f618e5",
   "metadata": {},
   "source": [
    "## Snowflake"
   ]
  },
  {
   "cell_type": "code",
   "execution_count": 1,
   "id": "8a75cdff",
   "metadata": {},
   "outputs": [
    {
     "name": "stdout",
     "output_type": "stream",
     "text": [
      "Requirement already satisfied: snowflake in /home/ec2-user/anaconda3/envs/python3/lib/python3.6/site-packages (0.0.3)\n",
      "\u001b[33mWARNING: You are using pip version 21.2.4; however, version 21.3.1 is available.\n",
      "You should consider upgrading via the '/home/ec2-user/anaconda3/envs/python3/bin/python -m pip install --upgrade pip' command.\u001b[0m\n",
      "Requirement already satisfied: snowflake-connector-python in /home/ec2-user/anaconda3/envs/python3/lib/python3.6/site-packages (2.7.0)\n",
      "Requirement already satisfied: dataclasses<1.0 in /home/ec2-user/anaconda3/envs/python3/lib/python3.6/site-packages (from snowflake-connector-python) (0.8)\n",
      "Requirement already satisfied: cryptography<4.0.0,>=3.1.0 in /home/ec2-user/anaconda3/envs/python3/lib/python3.6/site-packages (from snowflake-connector-python) (3.4.4)\n",
      "Requirement already satisfied: oscrypto<2.0.0 in /home/ec2-user/anaconda3/envs/python3/lib/python3.6/site-packages (from snowflake-connector-python) (1.2.1)\n",
      "Requirement already satisfied: requests<3.0.0 in /home/ec2-user/anaconda3/envs/python3/lib/python3.6/site-packages (from snowflake-connector-python) (2.26.0)\n",
      "Requirement already satisfied: pytz in /home/ec2-user/anaconda3/envs/python3/lib/python3.6/site-packages (from snowflake-connector-python) (2021.1)\n",
      "Requirement already satisfied: pyjwt<3.0.0 in /home/ec2-user/anaconda3/envs/python3/lib/python3.6/site-packages (from snowflake-connector-python) (2.3.0)\n",
      "Requirement already satisfied: idna<4,>=2.5 in /home/ec2-user/anaconda3/envs/python3/lib/python3.6/site-packages (from snowflake-connector-python) (3.1)\n",
      "Requirement already satisfied: certifi>=2017.4.17 in /home/ec2-user/anaconda3/envs/python3/lib/python3.6/site-packages (from snowflake-connector-python) (2021.5.30)\n",
      "Requirement already satisfied: asn1crypto<2.0.0,>0.24.0 in /home/ec2-user/anaconda3/envs/python3/lib/python3.6/site-packages (from snowflake-connector-python) (1.4.0)\n",
      "Requirement already satisfied: charset-normalizer~=2.0.0 in /home/ec2-user/anaconda3/envs/python3/lib/python3.6/site-packages (from snowflake-connector-python) (2.0.6)\n",
      "Requirement already satisfied: pycryptodomex!=3.5.0,<4.0.0,>=3.2 in /home/ec2-user/anaconda3/envs/python3/lib/python3.6/site-packages (from snowflake-connector-python) (3.11.0)\n",
      "Requirement already satisfied: setuptools>34.0.0 in /home/ec2-user/anaconda3/envs/python3/lib/python3.6/site-packages (from snowflake-connector-python) (49.6.0.post20210108)\n",
      "Requirement already satisfied: cffi<2.0.0,>=1.9 in /home/ec2-user/anaconda3/envs/python3/lib/python3.6/site-packages (from snowflake-connector-python) (1.14.5)\n",
      "Requirement already satisfied: pyOpenSSL<21.0.0,>=16.2.0 in /home/ec2-user/anaconda3/envs/python3/lib/python3.6/site-packages (from snowflake-connector-python) (20.0.1)\n",
      "Requirement already satisfied: pycparser in /home/ec2-user/anaconda3/envs/python3/lib/python3.6/site-packages (from cffi<2.0.0,>=1.9->snowflake-connector-python) (2.20)\n",
      "Requirement already satisfied: six>=1.5.2 in /home/ec2-user/anaconda3/envs/python3/lib/python3.6/site-packages (from pyOpenSSL<21.0.0,>=16.2.0->snowflake-connector-python) (1.15.0)\n",
      "Requirement already satisfied: urllib3<1.27,>=1.21.1 in /home/ec2-user/anaconda3/envs/python3/lib/python3.6/site-packages (from requests<3.0.0->snowflake-connector-python) (1.26.6)\n",
      "\u001b[33mWARNING: You are using pip version 21.2.4; however, version 21.3.1 is available.\n",
      "You should consider upgrading via the '/home/ec2-user/anaconda3/envs/python3/bin/python -m pip install --upgrade pip' command.\u001b[0m\n"
     ]
    }
   ],
   "source": [
    "## Run the following pip install commands and restart the notebook kernel \n",
    "!pip install snowflake --user\n",
    "!pip install snowflake-connector-python --user"
   ]
  },
  {
   "cell_type": "code",
   "execution_count": 5,
   "id": "95641d9c",
   "metadata": {},
   "outputs": [],
   "source": [
    "###### import pandas as pd\n",
    "import json\n",
    "import snowflake.connector\n",
    "import pandas as pd\n",
    "from abc import ABCMeta, abstractmethod\n",
    "import boto3\n",
    "\n",
    "## Limit Size of Returned Records\n",
    "MAX_QUERY_RETURN_SIZE = 1000000\n",
    "\n",
    "class Credentials(metaclass=ABCMeta):\n",
    "    pass\n",
    "    \n",
    "    \n",
    "class SSMPSCredentials(Credentials):\n",
    "    def __init__(self, secretid: str):\n",
    "        self._secretid = secretid\n",
    "        self._secrets = {}\n",
    "        \n",
    "    def get_keys(self):\n",
    "        \"\"\"\n",
    "        credential fetching \n",
    "        \"\"\"\n",
    "        _aws_sm_args = {'service_name': 'secretsmanager', 'region_name': 'us-east-1'}\n",
    "        secrets_client = boto3.client(**_aws_sm_args)\n",
    "        get_secret_value_response = secrets_client.get_secret_value(SecretId=self._secretid)\n",
    "        return get_secret_value_response\n",
    "    \n",
    "    \n",
    "class BaseConnector(metaclass=ABCMeta):\n",
    "    @abstractmethod\n",
    "    def connect(self):\n",
    "        raise NotImplementedError\n",
    "        \n",
    "\n",
    "class SnowflakeConnector(BaseConnector):\n",
    "    def __init__(self, credentials: Credentials):\n",
    "        keys = credentials.get_keys()\n",
    "        self._secrets = json.loads(keys.get('SecretString', \"{}\"))\n",
    "\n",
    "    def connect(self, dbname: str, schema: str = 'DEFAULT'):\n",
    "        ctx = snowflake.connector.connect(\n",
    "            user=self._secrets['login_name'],\n",
    "            password=self._secrets['login_password'],\n",
    "            account=self._secrets['account'],\n",
    "            warehouse=self._secrets['warehouse'],\n",
    "            database=dbname,\n",
    "            schema=schema\n",
    "        )\n",
    "\n",
    "        return ctx\n",
    "    "
   ]
  },
  {
   "cell_type": "code",
   "execution_count": 2,
   "id": "1aa5ef96",
   "metadata": {},
   "outputs": [],
   "source": [
    "## Credentials\n",
    "SF_CREDS = 'datascience-max-dev-sagemaker-notebooks'\n",
    "\n",
    "## Snowflake connection \n",
    "conn=SnowflakeConnector(SSMPSCredentials(SF_CREDS))\n",
    "ctx=conn.connect(\"MAX_PROD\",\"DATASCIENCE_STAGE\")\n",
    "cur = ctx.cursor()\n"
   ]
  },
  {
   "cell_type": "code",
   "execution_count": 6,
   "id": "9665602f",
   "metadata": {},
   "outputs": [
    {
     "data": {
      "text/html": [
       "<div>\n",
       "<style scoped>\n",
       "    .dataframe tbody tr th:only-of-type {\n",
       "        vertical-align: middle;\n",
       "    }\n",
       "\n",
       "    .dataframe tbody tr th {\n",
       "        vertical-align: top;\n",
       "    }\n",
       "\n",
       "    .dataframe thead th {\n",
       "        text-align: right;\n",
       "    }\n",
       "</style>\n",
       "<table border=\"1\" class=\"dataframe\">\n",
       "  <thead>\n",
       "    <tr style=\"text-align: right;\">\n",
       "      <th></th>\n",
       "      <th>RELEASE_MONTH</th>\n",
       "      <th>CATEGORY</th>\n",
       "      <th>UNCLEANED_TITLE</th>\n",
       "      <th>TITLE</th>\n",
       "      <th>SEASON</th>\n",
       "      <th>TIER</th>\n",
       "      <th>NUM_EPISODES_RELEASED</th>\n",
       "      <th>NUM_HOURS_RELEASED</th>\n",
       "      <th>NUM_PREMIERING_TITLES</th>\n",
       "    </tr>\n",
       "  </thead>\n",
       "  <tbody>\n",
       "    <tr>\n",
       "      <th>0</th>\n",
       "      <td>2020-08-01</td>\n",
       "      <td>DOCUMENTARY FEATURES</td>\n",
       "      <td>Class Action Park</td>\n",
       "      <td>Class Action Park</td>\n",
       "      <td>0</td>\n",
       "      <td>3</td>\n",
       "      <td>1</td>\n",
       "      <td>2</td>\n",
       "      <td>1</td>\n",
       "    </tr>\n",
       "    <tr>\n",
       "      <th>1</th>\n",
       "      <td>2020-08-01</td>\n",
       "      <td>DOCUMENTARY FEATURES</td>\n",
       "      <td>On the Trail: Inside the 2020 Primaries</td>\n",
       "      <td>On the Trail: Inside the 2020 Primaries</td>\n",
       "      <td>0</td>\n",
       "      <td>3</td>\n",
       "      <td>1</td>\n",
       "      <td>2</td>\n",
       "      <td>1</td>\n",
       "    </tr>\n",
       "  </tbody>\n",
       "</table>\n",
       "</div>"
      ],
      "text/plain": [
       "  RELEASE_MONTH              CATEGORY  \\\n",
       "0    2020-08-01  DOCUMENTARY FEATURES   \n",
       "1    2020-08-01  DOCUMENTARY FEATURES   \n",
       "\n",
       "                           UNCLEANED_TITLE  \\\n",
       "0                        Class Action Park   \n",
       "1  On the Trail: Inside the 2020 Primaries   \n",
       "\n",
       "                                     TITLE SEASON  TIER  \\\n",
       "0                        Class Action Park      0     3   \n",
       "1  On the Trail: Inside the 2020 Primaries      0     3   \n",
       "\n",
       "   NUM_EPISODES_RELEASED  NUM_HOURS_RELEASED  NUM_PREMIERING_TITLES  \n",
       "0                      1                   2                      1  \n",
       "1                      1                   2                      1  "
      ]
     },
     "metadata": {},
     "output_type": "display_data"
    }
   ],
   "source": [
    "# Execute a statement that will generate a result set.\n",
    "querystr='''\n",
    "    select *\n",
    "    from max_prod.content_intelligence.future_programming_schedule\n",
    "    limit 2\n",
    "'''\n",
    "cur.execute(querystr)\n",
    "# Fetch the result set from the cursor and deliver it as the Pandas DataFrame.\n",
    "\n",
    "colstring = ','.join([col[0] for col in cur.description])\n",
    "df = pd.DataFrame(cur.fetchall(), columns =colstring.split(\",\"))\n",
    "display(df)\n",
    "\n",
    "df.to_csv('test.csv')"
   ]
  },
  {
   "cell_type": "code",
   "execution_count": null,
   "id": "a4e637cc",
   "metadata": {},
   "outputs": [
    {
     "name": "stdout",
     "output_type": "stream",
     "text": [
      "Username for 'https://github.com/tiffanyjungym-hbo/setup': "
     ]
    }
   ],
   "source": []
  }
 ],
 "metadata": {
  "kernelspec": {
   "display_name": "conda_python3",
   "language": "python",
   "name": "conda_python3"
  },
  "language_info": {
   "codemirror_mode": {
    "name": "ipython",
    "version": 3
   },
   "file_extension": ".py",
   "mimetype": "text/x-python",
   "name": "python",
   "nbconvert_exporter": "python",
   "pygments_lexer": "ipython3",
   "version": "3.6.13"
  }
 },
 "nbformat": 4,
 "nbformat_minor": 5
}
